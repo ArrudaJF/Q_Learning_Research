{
  "cells": [
    {
      "cell_type": "markdown",
      "metadata": {
        "id": "view-in-github",
        "colab_type": "text"
      },
      "source": [
        "<a href=\"https://colab.research.google.com/github/ArrudaJF/Q_Learning_Research/blob/main/Q_Taxi.ipynb\" target=\"_parent\"><img src=\"https://colab.research.google.com/assets/colab-badge.svg\" alt=\"Open In Colab\"/></a>"
      ]
    },
    {
      "cell_type": "code",
      "source": [
        "#import gym\n",
        "import numpy as np\n",
        "import random as rd\n",
        "\n",
        "#-----------------------------------------------------------------\n",
        "# the values alpha and gamma are, respectively, \n",
        "#           the learning rate and the discount factor\n",
        "#-----------------------------------------------------------------\n",
        "alpha = 0.2\n",
        "gamma = 0.6\n",
        "epsilon_max = 0.9\n",
        "ep_decay_rate = 0.1\n",
        "epsilon_min = 0.01\n",
        "nA = 6\n",
        "dim = 5\n",
        "\n",
        "episodes = 1000\n",
        "\"\"\"\n",
        "actions are defined as:\n",
        "  0 = north\n",
        "  1 = east\n",
        "  2 = south\n",
        "  3 = west\n",
        "  4 = pickup\n",
        "  5 = dropoff\n",
        "\"\"\"\n",
        "\n",
        "actions = np.ones(nA)\n",
        "actions[0] = -1\n",
        "actions[1] = dim\n",
        "actions[3] = -dim\n",
        "actions[4] = 10\n",
        "actions[5] = 10\n",
        "\n",
        "\n",
        "states = np.zeros(dim*dim).reshape(dim,dim)\n",
        "\n",
        "#for each state (i, j) we assign a exclusive integer i + 5*j\n",
        "#initial state with a boolean that keeps track weather \n",
        "#                     the agent picked the passenger or not\n",
        "current_state = 0\n",
        "passenger = False\n",
        "\n",
        "# pickup and dropoff states, states are fixed for this first part\n",
        "states[0,4] = 5\n",
        "states[4,3] = 5\n",
        "pickup_state = 0 + 5*4\n",
        "final_state = 4 + 3*5\n",
        "\n",
        "qtable = np.zeros((dim**2, 6))\n",
        "qtable_passenger = np.zeros((dim**2, 6))\n",
        "\n",
        "print(np.shape(qtable))\n",
        "print(actions)\n",
        "print(states)"
      ],
      "metadata": {
        "id": "f0Jlq7Mt7Aex",
        "outputId": "045ede7d-e1ee-4753-cf63-5e02569af3e8",
        "colab": {
          "base_uri": "https://localhost:8080/"
        }
      },
      "execution_count": 17,
      "outputs": [
        {
          "output_type": "stream",
          "name": "stdout",
          "text": [
            "(25, 6)\n",
            "[-1.  5.  1. -5. 10. 10.]\n",
            "[[0. 0. 0. 0. 5.]\n",
            " [0. 0. 0. 0. 0.]\n",
            " [0. 0. 0. 0. 0.]\n",
            " [0. 0. 0. 0. 0.]\n",
            " [0. 0. 0. 5. 0.]]\n"
          ]
        }
      ]
    },
    {
      "cell_type": "code",
      "source": [
        "def step(state, action, passenger):\n",
        "\n",
        "  #-----------------------------------------------------------------------------\n",
        "  # if the agent is at the left-most states of the environment,\n",
        "  #         it can't go further to the left, and it works the same for each\n",
        "  #                 direction that the set of actions allows the agent to go\n",
        "  #-----------------------------------------------------------------------------\n",
        "  # also, there are specific (in this case) states where the agent can pickup or\n",
        "  # dropoff passenger (0, 4) states[20], and passenger = True\n",
        "  #-----------------------------------------------------------------------------\n",
        "\n",
        "  if action == 0 and state not in [dim*x for x in range(dim)]:\n",
        "    return int(state + actions[action]), -1, passenger, False\n",
        "\n",
        "  elif action == 1 and state not in range(dim*(dim -1), dim*dim):\n",
        "    return int(state + actions[action]), -1, passenger, False\n",
        "\n",
        "  elif action == 2 and state not in [dim*x -1 for x in range(1, dim + 1)]:\n",
        "    return int(state + actions[action]), -1, passenger, False\n",
        "\n",
        "  elif action == 3 and state not in range(dim):\n",
        "    return int(state + actions[action]), -1, passenger, False\n",
        "\n",
        "  if action == 4 and state == 19 and passenger == False:\n",
        "    return int(state), 5, True, False\n",
        "\n",
        "  if action == 5 and state == 20 and passenger == True:\n",
        "    return int(state), 10, False, True\n",
        "\n",
        "  return int(state), -20, passenger, False"
      ],
      "metadata": {
        "id": "VXN6LK2BHmDf"
      },
      "execution_count": 3,
      "outputs": []
    },
    {
      "cell_type": "code",
      "source": [
        "def update_Q(current_state, action, next_state, reward, qtable):\n",
        "  #-----------------------------------------------------------------------------\n",
        "  #        q(s,a) = (1 - alpha)*q(s,a) + alpha*(reward + gamma*q(s',a'))\n",
        "  #-----------------------------------------------------------------------------\n",
        "  #    alpha is the learning rate and gamma the discount factor\n",
        "  #-----------------------------------------------------------------------------\n",
        "  # in this case s is the current state, s' is the next state\n",
        "  #        and a' is the best action it could possibly take at the next state\n",
        "  #-----------------------------------------------------------------------------\n",
        "  qtable[current_state, action] = (1 - alpha)*qtable[current_state, action] + alpha*(reward + gamma*np.max(qtable[next_state, :]))"
      ],
      "metadata": {
        "id": "0hlbSZ1wIFl7"
      },
      "execution_count": 4,
      "outputs": []
    },
    {
      "cell_type": "code",
      "source": [
        "def exploration_rate(epsilon, epsilon_min, ep_decay_rate):\n",
        "  if epsilon > epsilon_min:\n",
        "    epsilon = epsilon - ep_decay_rate\n",
        "  else:\n",
        "    epsilon = epsilon_min\n",
        "  return epsilon"
      ],
      "metadata": {
        "id": "qJOYYOXRWJh3"
      },
      "execution_count": 5,
      "outputs": []
    },
    {
      "cell_type": "code",
      "source": [
        "for _ in range(episodes):\n",
        "  #-----------------------------------------------------------------------------\n",
        "  # we reset the agent's position to a random state \n",
        "  #                    passenger-status to False and done to False\n",
        "  #                         before starting another episode\n",
        "  #-----------------------------------------------------------------------------\n",
        "  current_state = rd.randint(0,24)\n",
        "  passenger = False\n",
        "  done = False\n",
        "  \n",
        "  for _ in range(100):\n",
        "  #-----------------------------------------------------------------------------\n",
        "  # this part is important because it forces the agent to explore the \n",
        "  #       environment more in order to make its decision more valuable\n",
        "  #-----------------------------------------------------------------------------\n",
        "    epsilon = rd.random()\n",
        "    if epsilon > epsilon_max:\n",
        "      act_taken = np.argmax(qtable[current_state])\n",
        "    else:\n",
        "      i = [0,1,2,3,4,5]\n",
        "      i.remove(np.argmax(qtable[current_state]))\n",
        "      act_taken = rd.choice(i)\n",
        "\n",
        "\n",
        "    next_state, reward, passenger, done = step(current_state, act_taken, passenger)\n",
        "    update_Q(current_state, act_taken, next_state, reward, qtable)\n",
        "    current_state = next_state\n",
        "    epsilon_max = exploration_rate(epsilon_max, epsilon_min, ep_decay_rate)\n",
        "    \n",
        "    if passenger == True:\n",
        "      break\n",
        "\n",
        "#-----------------------------------------------------------------------------\n",
        "#\n",
        "#        passenger was picked\n",
        "#\n",
        "#-----------------------------------------------------------------------------\n",
        "  epsilon_max = 0.9\n",
        "  for _ in range(100):\n",
        "    epsilon = rd.random()\n",
        "    if epsilon > epsilon_max:\n",
        "      act_taken = np.argmax(qtable_passenger[current_state])\n",
        "    else:\n",
        "      i = [0,1,2,3,4,5]\n",
        "      i.remove(np.argmax(qtable_passenger[current_state]))\n",
        "      act_taken = rd.choice(i)\n",
        "\n",
        "\n",
        "    next_state, reward, passenger, done = step(current_state, act_taken, passenger)\n",
        "    update_Q(current_state, act_taken, next_state, reward, qtable_passenger)\n",
        "    current_state = next_state\n",
        "    epsilon_max = exploration_rate(epsilon_max, epsilon_min, ep_decay_rate)\n",
        "\n",
        "    if done == True:\n",
        "      break\n"
      ],
      "metadata": {
        "id": "cIOsN3sH1LQz"
      },
      "execution_count": 21,
      "outputs": []
    },
    {
      "cell_type": "code",
      "source": [
        "for i in range(dim):\n",
        "  for j in range(dim):\n",
        "    if np.argmax(qtable[i + dim*j]) == 0:\n",
        "      print(\"^\", end=' ')\n",
        "    elif np.argmax(qtable[i + dim*j]) == 1:\n",
        "      print(\">\", end=' ')\n",
        "    elif np.argmax(qtable[i + dim*j]) == 2:\n",
        "      print(\"v\", end=' ')\n",
        "    elif np.argmax(qtable[i + dim*j]) == 3:\n",
        "      print(\"<\", end=' ')\n",
        "    elif np.argmax(qtable[i + dim*j]) == 4:\n",
        "      print(\"P\", end=' ')\n",
        "    elif np.argmax(qtable[i + dim*j]) == 5:\n",
        "      print(\"D\", end=' ')\n",
        "\n",
        "  print(\" \")\n"
      ],
      "metadata": {
        "colab": {
          "base_uri": "https://localhost:8080/"
        },
        "id": "Ni6im6i0IxSK",
        "outputId": "4ff79781-57c2-4952-d89e-5cb98f600157"
      },
      "execution_count": 22,
      "outputs": [
        {
          "output_type": "stream",
          "name": "stdout",
          "text": [
            "v > v v v  \n",
            "v > > v <  \n",
            "> > > v <  \n",
            "v v v v <  \n",
            "> > > P <  \n"
          ]
        }
      ]
    },
    {
      "cell_type": "code",
      "source": [
        "for i in range(dim):\n",
        "  for j in range(dim):\n",
        "    if np.argmax(qtable_passenger[i + dim*j]) == 0:\n",
        "      print(\"^\", end=' ')\n",
        "    elif np.argmax(qtable_passenger[i + dim*j]) == 1:\n",
        "      print(\">\", end=' ')\n",
        "    elif np.argmax(qtable_passenger[i + dim*j]) == 2:\n",
        "      print(\"v\", end=' ')\n",
        "    elif np.argmax(qtable_passenger[i + dim*j]) == 3:\n",
        "      print(\"<\", end=' ')\n",
        "    elif np.argmax(qtable_passenger[i + dim*j]) == 4:\n",
        "      print(\"P\", end=' ')\n",
        "    elif np.argmax(qtable_passenger[i + dim*j]) == 5:\n",
        "      print(\"D\", end=' ')\n",
        "\n",
        "  print(\" \")"
      ],
      "metadata": {
        "colab": {
          "base_uri": "https://localhost:8080/"
        },
        "id": "IYW7112GUIZn",
        "outputId": "9ab26999-968a-4ee1-ed62-c80b72b500b6"
      },
      "execution_count": 23,
      "outputs": [
        {
          "output_type": "stream",
          "name": "stdout",
          "text": [
            "> > > > D  \n",
            "> ^ ^ ^ ^  \n",
            "^ ^ ^ > ^  \n",
            "^ ^ > ^ ^  \n",
            "> > > ^ ^  \n"
          ]
        }
      ]
    },
    {
      "cell_type": "code",
      "source": [
        "for i in range(dim*dim):\n",
        "  for j in range(6):\n",
        "    qtable_passenger[i,j] = round(qtable_passenger[i,j], 5)\n",
        "\n",
        "print(qtable_passenger[0])\n",
        "print(qtable_passenger[1])\n",
        "print(qtable_passenger[2])\n",
        "print(qtable_passenger[6])\n"
      ],
      "metadata": {
        "colab": {
          "base_uri": "https://localhost:8080/"
        },
        "id": "ghupzWLxSG1H",
        "outputId": "333d2465-9fa7-4e78-a627-47570e9a849d"
      },
      "execution_count": 24,
      "outputs": [
        {
          "output_type": "stream",
          "name": "stdout",
          "text": [
            "[-7.44679 -0.98126 -2.5     -7.5     -7.49999 -7.5    ]\n",
            "[ -2.43488  -1.01719  -2.5     -10.3     -15.76497 -10.29949]\n",
            "[ -2.11029  -2.5      -2.5     -12.54    -10.07376 -15.7656 ]\n",
            "[  1.05957  -2.5      -2.5      -2.49219 -15.6276  -18.52339]\n"
          ]
        }
      ]
    }
  ],
  "metadata": {
    "colab": {
      "provenance": [],
      "toc_visible": true,
      "include_colab_link": true
    },
    "kernelspec": {
      "display_name": "Python 3",
      "name": "python3"
    }
  },
  "nbformat": 4,
  "nbformat_minor": 0
}